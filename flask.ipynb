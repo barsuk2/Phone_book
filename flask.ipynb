{
 "cells": [
  {
   "cell_type": "markdown",
   "metadata": {
    "collapsed": true,
    "pycharm": {
     "name": "#%% md\n"
    }
   },
   "source": [
    "начало\n",
    "virt => flask => sqlalchemy -устновить эти пакеты\n",
    "Структура простого flask-проекта\n",
    "templates - шаблоны html документов\n",
    "static - папка поумолчанию для статических файлов  - CSS, JS\n",
    "app = Flask(__name__, static_folder=\"static_dir\") - изменить папку\n",
    "\n",
    "Для запуска сервера разработки на конкретном хосте и порте, их нужно передать в качестве аргументов-ключевых слов методу run():\n",
    "if __name__ == \"__main__\":\n",
    "    app.run(debug=True, host=\"127.0.0.10\", port=9000)"
   ]
  },
  {
   "cell_type": "markdown",
   "source": [
    "переменная __name__ d области видимость скрипта = __main__, а в области видимосити импротрированной функции - назавние импортированного файла\n",
    "\n",
    "Режим отладки\n",
    "    app.debug = True\n",
    "    app.run(debug=True)\n",
    "Режим отладки прегружает сервер после измениея кода и в окне браузера выводит ошибку\n",
    "Debugger pin code: 515-598-787 в терминале для редактирования в браузере"
   ],
   "metadata": {
    "collapsed": false
   }
  },
  {
   "cell_type": "markdown",
   "source": [
    "Преременная часть url записывается в виде  - <variable_name>\n",
    "По умолчанию <> - строка, можно использовать конверторы\n",
    "</int:id_post> - ожидаем int\n",
    "</float:id_post> - ожидаем float\n",
    "</float:id_path> - ожидаем path /path1/path2/\n",
    "<string:>, <uuid>"
   ],
   "metadata": {
    "collapsed": false
   }
  },
  {
   "cell_type": "markdown",
   "source": [
    "@# @app.route('/') декоратор маршрутизации\n",
    "app.add_url_rule('/', 'index', index) - функция маршрутизации (НЕ РАЗОБРАЛСЯ КАК РАБОТЕТ)\n",
    "app.url_map - карта ссылок в терминале"
   ],
   "metadata": {
    "collapsed": false
   }
  },
  {
   "cell_type": "markdown",
   "source": [
    "### Контексты\n",
    "Контексты заставлют отдельные переменные вести себя как глобальные.\n",
    "Flask использует контексты, чтобы временно делать определенные глобальные доступными в глобальной области видимости.\n",
    "\n",
    "1.Контекст приложения - используется для хронения оюбщих переменных приложение такие как подключение к БД, настойки и т д\n",
    "Объекты контекста приложений\n",
    "current_app b g.current_app\n",
    "\n",
    "2.Контекст запроса\n",
    "Объекты контекста запроса\n",
    "request - содержит информацию о текущем запросе\n",
    "session - это словарь в котором храниться значения, которые сохраняются между запромсами"
   ],
   "metadata": {
    "collapsed": false
   }
  },
  {
   "cell_type": "markdown",
   "source": [
    "### ОТвет сервера и перехват запросов\n",
    "1.В виде строки или с помощью шаблонизатора - стандартый ответ\n",
    "2. Объекта ответа - make_response\n",
    "3. Кортежа в формате (response, status, headers) или (response, headers) или (response, status)\n",
    "\n",
    "Создание ответа с помощью make_response()\n",
    "\n",
    "res_obj = make_response(res_body, status_code=200)\n",
    "\n",
    "@app.route('/books/<genre>')\n",
    "def books(genre):\n",
    "    res = make_response(\"All Books in {} category\".format(genre))\n",
    "    res.headers['Content-Type'] = 'text/plain'\n",
    "    res.headers['Server'] = 'Foobar'\n",
    "    return res\n",
    "\n",
    "@app.route('/')\n",
    "def http_404_handler():\n",
    "    return make_response(\"<h2>404 Error</h2>\", 400)\n",
    "\n",
    "Создание ответов с помощью кортежей\n",
    "@app.route('/')\n",
    "def http_500_handler():\n",
    "    return (\"<h2>500 Error</h2>\", 500)"
   ],
   "metadata": {
    "collapsed": false
   }
  },
  {
   "cell_type": "markdown",
   "source": [
    "### Изменение страниц ошибок\n",
    "@app.errorhandler(404) - декоратор обработки ошибок\n",
    "def http_404_hendler(error):\n",
    "    return '<h1> Страница не существует</h1>'"
   ],
   "metadata": {
    "collapsed": false
   }
  },
  {
   "cell_type": "markdown",
   "source": [
    "### Шаблоны\n",
    "templates-help\n",
    "app = Flask(__name__, template_folder=\"jinja_templates\") - смена значения по умолчанию\n",
    "render_template() - метод отрисовки шаблона\n",
    ">return render_template('index.html', name='Jerry')"
   ],
   "metadata": {
    "collapsed": false
   }
  },
  {
   "cell_type": "markdown",
   "source": [
    "Основы шаблонизатора Jinja\n",
    "from jinja2 import Template й\n",
    "Template(\"{{ var[1] }}\").render(var=(\"c\", \"c++\", \"python\"))\n",
    "Template(\"{{ obj.i }}\").render(obj=Foo(5)) - обращение к атрибуту FOO\n",
    "emplate(\"{{ obj.call() }}\").render(obj=Foo(5)) - обращение  к методу Foo\n",
    "#### Коментрарии\n",
    "{# комментарий #}\n",
    "{#\n",
    "    это\n",
    "    многострочный\n",
    "    комментарий\n",
    "#}\n",
    "Объявление переменных - Переменные определяются для хранения результатов сложных операций, так чтобы их можно было использовать дальше в шаблоне\n",
    "\n",
    "{% set fruit = 'apple' %} - объявляем переменные\n",
    "{% set name, age = 'Tom', 20 %}\n",
    "Инструкция if\n",
    "{% if user.name == 'egor' %}\n",
    "        <p>Привет {{ user.name }}\n",
    "            {% elif %}\n",
    "            {% else %}\n",
    "        <p>Ты не егор {{ user.name }}\n",
    "[в Jinja, если у переменной нет значения, она возвращает False.]\n",
    "выражением if\n",
    "{{ \"User is logged in\" if loggedin else \"User is not logged in\" }}"
   ],
   "metadata": {
    "collapsed": false
   }
  },
  {
   "cell_type": "markdown",
   "source": [
    "### Цикл for\n",
    "{% set user_list = ['tom', 'jerry', 'spike'] %}\n",
    "{% for user in user_list %}\n",
    "    <li>{{ user }}</li>\n",
    "{% endfor %} - цикл требует закрытия\n",
    "</ul>\n",
    "\n",
    "Цикл for предоставляет специальную переменную [loop] для отслеживания прогресса цикла.\n",
    "loop.index -  порядковый номер итерации с [еденицы]\n",
    "loop.index0 -  порядковый номер итерации с [нуля]\n",
    "loop.revindex -  порядковый номер итерации с конца цикла с [еденицы]\n",
    "loop.revindex0 -  порядковый номер итерации с конца цикла с [нуля]\n",
    "loop.first -  если первый элемент цикла то True иначе False\n",
    "loop.length -  длинна цикла\n",
    "\n",
    "#### Фильтры (примение к [content] встроенной функции)\n",
    "{{ content|filter1|filter2|filter3| }} - синтаксис\n",
    "\n",
    "upper,lower,capitalize,trim\n",
    "length - возвращает количество элементов в последовательности\n",
    "random - возвращает случайный элемент последовательности\n",
    "striptags - удалит из переменной все HTML\n",
    "round  - округляет число до конкретного количества символов\n",
    "escape - экранирует значение\n",
    "safe - предотвращает экранирование\n",
    "\n",
    "#### Макросы\n",
    "\n",
    "{% macro name_macro(arg) %}\n",
    "{% endmacro %}\n",
    "{{ name_macro(arg) }}\n",
    "Если макросы хранятся в отдельном файле,\n",
    "{{ macros.render_posts(posts) }}\n",
    "{% from \"macros.html\" import render_posts %}"
   ],
   "metadata": {
    "collapsed": false
   }
  },
  {
   "cell_type": "markdown",
   "source": [
    "### Экранирование\n",
    "{% set content =\"<p>Escaping in Jinja</p>\" %}\n",
    "{{ content }}\n",
    "><p>Escaping in Jinja</p> - по умолчанию jinja экранирует теги\n",
    "\n",
    "{% set content =\"<p>Escaping in Jinja</p>\" %}\n",
    "{{ content|safe }} - применятют фильтр safe\n",
    ">Escaping in Jinja - по умолчанию jinja экранирует теги\n",
    "\n",
    "или использовать оператор\n",
    "{% autoescape true %} - включить escaping\n",
    "{% autoescape false %} - выключить escaping"
   ],
   "metadata": {
    "collapsed": false
   }
  },
  {
   "cell_type": "markdown",
   "source": [
    "### Наследование шаблонов\n",
    "#### Вложение шаблонов\n",
    "[include] - рендерит шаблон внутри другого\n",
    "{# добавляем панель навигации из nav.html #}\n",
    "    {% include 'nav.html' %}\n",
    "\n",
    "#### РОдительский шаблон\n",
    "base.html => {% block block1%}{% endblock%} - в родительском файле создаем блоки\n",
    "child1.html  => {% extends base.html%} заполняем родительские блоки {% block block1%}{% endblock%}\n",
    "дочерний блок перезаписывает родительский\n",
    "Функция [super] используется для добавления родительского блока в дочерний\n",
    "{% block nav %}\n",
    "    {{ super() }} {# referring to the content in the parent templates #}\n",
    "    <li><a href=\"/contact\">Contact</a></li>\n",
    "    <li><a href=\"/career\">Career</a></li>\n",
    "{% endblock %}"
   ],
   "metadata": {
    "collapsed": false
   }
  },
  {
   "cell_type": "markdown",
   "source": [
    "### Создание URL\n",
    "url_for - из пакета Flask генерит url\n",
    "with app.test_request_context('/templates'): - что сперва создается контекст запроса (и таким образом — контекст приложения).\n",
    "...      print(url_for('index',_extrenal=True)) - генерировать абсолютной URL"
   ],
   "metadata": {
    "collapsed": false
   }
  },
  {
   "cell_type": "markdown",
   "source": [
    "### статические файлы\n",
    "static - папка поумолчанию для статических фалов JS CSS jpg\n",
    "<script> src=\"{% url_for ('static',filename = 'style.css')%} \"</script>"
   ],
   "metadata": {
    "collapsed": false,
    "pycharm": {
     "name": "#%% md\n"
    }
   }
  },
  {
   "cell_type": "markdown",
   "source": [
    "### Flask-Script\n",
    "\n",
    "\n"
   ],
   "metadata": {
    "collapsed": false
   }
  },
  {
   "cell_type": "markdown",
   "source": [
    "### ORM\n",
    "\n",
    "PhoneBook.query.filter(PhoneBook.name.contains('bob')).first()\n"
   ],
   "metadata": {
    "collapsed": false
   }
  }
 ],
 "metadata": {
  "kernelspec": {
   "display_name": "Python 3",
   "language": "python",
   "name": "python3"
  },
  "language_info": {
   "codemirror_mode": {
    "name": "ipython",
    "version": 2
   },
   "file_extension": ".py",
   "mimetype": "text/x-python",
   "name": "python",
   "nbconvert_exporter": "python",
   "pygments_lexer": "ipython2",
   "version": "2.7.6"
  }
 },
 "nbformat": 4,
 "nbformat_minor": 0
}